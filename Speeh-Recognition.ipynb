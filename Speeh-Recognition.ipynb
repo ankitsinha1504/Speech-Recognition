{
 "cells": [
  {
   "cell_type": "code",
   "execution_count": 8,
   "metadata": {},
   "outputs": [
    {
     "name": "stdout",
     "output_type": "stream",
     "text": [
      "Converting Audio To Text ..... \n",
      "Converted Audio Is : \n",
      "new swear on the smooth flowing through the state with a background in 2008 available these days it took him like a river Rises after insert in 52 balls 100 runs mix find the park source on the side of the how to search Queen gadi\n"
     ]
    }
   ],
   "source": [
    "import speech_recognition as sr\n",
    "import moviepy.editor as mp \n",
    "\n",
    "#clip = mp.VideoFileClip(\"videoplayback.mp4\")\n",
    "#clip.audio.write_audiofile(\"converted.wav\")\n",
    "\n",
    "def main():\n",
    "    sound = \"a.wav\"\n",
    " \n",
    "    r = sr.Recognizer()\n",
    " \n",
    "    with sr.AudioFile(sound) as source:\n",
    "        # with sr.Microphone() as source:\n",
    "        r.adjust_for_ambient_noise(source)\n",
    " \n",
    " \n",
    "        print(\"Converting Audio To Text ..... \")\n",
    " \n",
    " \n",
    "    \n",
    "        audio = r.listen(source)\n",
    " \n",
    " \n",
    " \n",
    "    try:\n",
    "        print(\"Converted Audio Is : \\n\" + r.recognize_google(audio))\n",
    " \n",
    " \n",
    "    except Exception as e:\n",
    "        print(\"Error {} : \".format(e) )\n",
    " \n",
    " \n",
    " \n",
    "if __name__ == \"__main__\":\n",
    "    main()"
   ]
  },
  {
   "cell_type": "code",
   "execution_count": null,
   "metadata": {},
   "outputs": [],
   "source": []
  },
  {
   "cell_type": "code",
   "execution_count": null,
   "metadata": {},
   "outputs": [],
   "source": []
  }
 ],
 "metadata": {
  "kernelspec": {
   "display_name": "Python 3",
   "language": "python",
   "name": "python3"
  },
  "language_info": {
   "codemirror_mode": {
    "name": "ipython",
    "version": 3
   },
   "file_extension": ".py",
   "mimetype": "text/x-python",
   "name": "python",
   "nbconvert_exporter": "python",
   "pygments_lexer": "ipython3",
   "version": "3.7.6"
  }
 },
 "nbformat": 4,
 "nbformat_minor": 4
}
